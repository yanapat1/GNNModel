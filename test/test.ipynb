{
 "cells": [
  {
   "cell_type": "code",
   "execution_count": 1,
   "metadata": {},
   "outputs": [
    {
     "name": "stdout",
     "output_type": "stream",
     "text": [
      "/Users/yanapat.boo/anaconda3/envs/yanapat_env/bin/python\n",
      "0\n",
      "/Users/yanapat.boo/Desktop/project-github/my-github/GNNModel\n",
      "0\n",
      "/Users/yanapat.boo/Desktop/project-github/my-github/GNNModel\n",
      "total 328\n",
      "drwxr-xr-x  12 yanapat.boo  staff     384 Nov 19 14:20 \u001b[34m.\u001b[m\u001b[m\n",
      "drwxr-xr-x@  3 yanapat.boo  staff      96 Nov 18 18:59 \u001b[34m..\u001b[m\u001b[m\n",
      "drwxr-xr-x  15 yanapat.boo  staff     480 Nov 19 19:38 \u001b[34m.git\u001b[m\u001b[m\n",
      "drwxr-xr-x   3 yanapat.boo  staff      96 Nov 18 19:18 \u001b[34m.github\u001b[m\u001b[m\n",
      "-rw-r--r--   1 yanapat.boo  staff       1 Nov 18 20:17 README.md\n",
      "drwxr-xr-x   4 yanapat.boo  staff     128 Nov 18 19:22 \u001b[34mmodels\u001b[m\u001b[m\n",
      "drwxr-xr-x   3 yanapat.boo  staff      96 Nov 19 14:19 \u001b[34mmodules\u001b[m\u001b[m\n",
      "-rw-r--r--   1 yanapat.boo  staff  156998 Nov 18 20:40 poetry.lock\n",
      "-rw-r--r--   1 yanapat.boo  staff     341 Nov 18 20:40 pyproject.toml\n",
      "drwxr-xr-x   3 yanapat.boo  staff      96 Nov 18 19:05 \u001b[34mrun\u001b[m\u001b[m\n",
      "drwxr-xr-x   3 yanapat.boo  staff      96 Nov 19 19:25 \u001b[34mtest\u001b[m\u001b[m\n",
      "drwxr-xr-x   6 yanapat.boo  staff     192 Nov 18 20:08 \u001b[34mvenv\u001b[m\u001b[m\n",
      "0\n"
     ]
    }
   ],
   "source": [
    "import os\n",
    "import sys\n",
    "\n",
    "print(os.system('which python'))\n",
    "# os.chdir('/Users/yanapat.boo/Desktop/project-github/my-github/GNNModel')\n",
    "print(os.system('pwd'))\n",
    "print(os.getcwd())\n",
    "print(os.system('ls -al'))\n",
    "# sys.path.append(r'/Users/yanapat.boo/Desktop/project-github/GNNModel')\n",
    "\n",
    "# for i in sys.path:\n",
    "#     print(i)"
   ]
  },
  {
   "cell_type": "code",
   "execution_count": 86,
   "metadata": {},
   "outputs": [
    {
     "data": {
      "text/plain": [
       "'/Users/yanapat.boo/Desktop/project-github/my-github/GNNModel'"
      ]
     },
     "execution_count": 86,
     "metadata": {},
     "output_type": "execute_result"
    }
   ],
   "source": [
    "# from pyspark.sql import functions as spkf\n",
    "# from modules.spark_module import create_spark_session\n",
    "\n",
    "# import pandas as pd\n",
    "# import numpy as np\n",
    "\n",
    "os.getcwd()"
   ]
  },
  {
   "cell_type": "code",
   "execution_count": 9,
   "metadata": {},
   "outputs": [
    {
     "name": "stderr",
     "output_type": "stream",
     "text": [
      "23/11/19 19:45:34 WARN NativeCodeLoader: Unable to load native-hadoop library for your platform... using builtin-java classes where applicable\n",
      "Using Spark's default log4j profile: org/apache/spark/log4j-defaults.properties\n",
      "Setting default log level to \"WARN\".\n",
      "To adjust logging level use sc.setLogLevel(newLevel). For SparkR, use setLogLevel(newLevel).\n"
     ]
    }
   ],
   "source": [
    "from pyspark.sql import SparkSession\n",
    "\n",
    "spark = SparkSession.builder.master('local[*]').appName('test1').getOrCreate()"
   ]
  },
  {
   "cell_type": "code",
   "execution_count": 10,
   "metadata": {},
   "outputs": [
    {
     "data": {
      "text/html": [
       "\n",
       "            <div>\n",
       "                <p><b>SparkSession - in-memory</b></p>\n",
       "                \n",
       "        <div>\n",
       "            <p><b>SparkContext</b></p>\n",
       "\n",
       "            <p><a href=\"http://192.168.1.45:4040\">Spark UI</a></p>\n",
       "\n",
       "            <dl>\n",
       "              <dt>Version</dt>\n",
       "                <dd><code>v3.1.2</code></dd>\n",
       "              <dt>Master</dt>\n",
       "                <dd><code>local[*]</code></dd>\n",
       "              <dt>AppName</dt>\n",
       "                <dd><code>test1</code></dd>\n",
       "            </dl>\n",
       "        </div>\n",
       "        \n",
       "            </div>\n",
       "        "
      ],
      "text/plain": [
       "<pyspark.sql.session.SparkSession at 0x7fbd6c9fecb0>"
      ]
     },
     "execution_count": 10,
     "metadata": {},
     "output_type": "execute_result"
    }
   ],
   "source": [
    "spark"
   ]
  }
 ],
 "metadata": {
  "kernelspec": {
   "display_name": "Python 3",
   "language": "python",
   "name": "python3"
  },
  "language_info": {
   "codemirror_mode": {
    "name": "ipython",
    "version": 3
   },
   "file_extension": ".py",
   "mimetype": "text/x-python",
   "name": "python",
   "nbconvert_exporter": "python",
   "pygments_lexer": "ipython3",
   "version": "3.10.13"
  }
 },
 "nbformat": 4,
 "nbformat_minor": 2
}
