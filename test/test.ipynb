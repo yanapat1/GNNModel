{
 "cells": [
  {
   "cell_type": "code",
   "execution_count": 79,
   "metadata": {},
   "outputs": [
    {
     "name": "stdout",
     "output_type": "stream",
     "text": [
      "/Users/yanapat.boo/Library/Caches/pypoetry/virtualenvs/gnnmodel-Yg7LBcxz-py3.10/bin/python\n",
      "0\n",
      "/Users/yanapat.boo/Desktop/project-github/my-github/GNNModel\n",
      "0\n",
      "/Users/yanapat.boo/Desktop/project-github/my-github/GNNModel\n",
      "total 328\n",
      "drwxr-xr-x  12 yanapat.boo  staff     384 Nov 19 14:20 \u001b[34m.\u001b[m\u001b[m\n",
      "drwxr-xr-x@  3 yanapat.boo  staff      96 Nov 18 18:59 \u001b[34m..\u001b[m\u001b[m\n",
      "drwxr-xr-x  15 yanapat.boo  staff     480 Nov 18 22:18 \u001b[34m.git\u001b[m\u001b[m\n",
      "drwxr-xr-x   3 yanapat.boo  staff      96 Nov 18 19:18 \u001b[34m.github\u001b[m\u001b[m\n",
      "-rw-r--r--   1 yanapat.boo  staff       1 Nov 18 20:17 README.md\n",
      "drwxr-xr-x   4 yanapat.boo  staff     128 Nov 18 19:22 \u001b[34mmodels\u001b[m\u001b[m\n",
      "drwxr-xr-x   3 yanapat.boo  staff      96 Nov 19 14:19 \u001b[34mmodules\u001b[m\u001b[m\n",
      "-rw-r--r--   1 yanapat.boo  staff  156998 Nov 18 20:40 poetry.lock\n",
      "-rw-r--r--   1 yanapat.boo  staff     341 Nov 18 20:40 pyproject.toml\n",
      "drwxr-xr-x   3 yanapat.boo  staff      96 Nov 18 19:05 \u001b[34mrun\u001b[m\u001b[m\n",
      "drwxr-xr-x   3 yanapat.boo  staff      96 Nov 18 19:57 \u001b[34mtest\u001b[m\u001b[m\n",
      "drwxr-xr-x   6 yanapat.boo  staff     192 Nov 18 20:08 \u001b[34mvenv\u001b[m\u001b[m\n",
      "0\n"
     ]
    }
   ],
   "source": [
    "import os\n",
    "import sys\n",
    "\n",
    "print(os.system('which python'))\n",
    "os.chdir('/Users/yanapat.boo/Desktop/project-github/my-github/GNNModel')\n",
    "print(os.system('pwd'))\n",
    "print(os.getcwd())\n",
    "print(os.system('ls -al'))\n",
    "# sys.path.append(r'/Users/yanapat.boo/Desktop/project-github/GNNModel')\n",
    "\n",
    "# for i in sys.path:\n",
    "#     print(i)"
   ]
  },
  {
   "cell_type": "code",
   "execution_count": 86,
   "metadata": {},
   "outputs": [
    {
     "data": {
      "text/plain": [
       "'/Users/yanapat.boo/Desktop/project-github/my-github/GNNModel'"
      ]
     },
     "execution_count": 86,
     "metadata": {},
     "output_type": "execute_result"
    }
   ],
   "source": [
    "# from pyspark.sql import functions as spkf\n",
    "# from modules.spark_module import create_spark_session\n",
    "\n",
    "# import pandas as pd\n",
    "# import numpy as np\n",
    "\n",
    "os.getcwd()"
   ]
  },
  {
   "cell_type": "code",
   "execution_count": 88,
   "metadata": {},
   "outputs": [
    {
     "ename": "ModuleNotFoundError",
     "evalue": "No module named 'test_module'",
     "output_type": "error",
     "traceback": [
      "\u001b[0;31m---------------------------------------------------------------------------\u001b[0m",
      "\u001b[0;31mModuleNotFoundError\u001b[0m                       Traceback (most recent call last)",
      "\u001b[1;32m/Users/yanapat.boo/Desktop/project-github/my-github/GNNModel/test/test.ipynb Cell 3\u001b[0m line \u001b[0;36m1\n\u001b[0;32m----> <a href='vscode-notebook-cell:/Users/yanapat.boo/Desktop/project-github/my-github/GNNModel/test/test.ipynb#W3sZmlsZQ%3D%3D?line=0'>1</a>\u001b[0m \u001b[39mfrom\u001b[39;00m \u001b[39mtest_module\u001b[39;00m \u001b[39mimport\u001b[39;00m create_dataframe\n",
      "\u001b[0;31mModuleNotFoundError\u001b[0m: No module named 'test_module'"
     ]
    }
   ],
   "source": [
    "from test_module import create_dataframe"
   ]
  }
 ],
 "metadata": {
  "kernelspec": {
   "display_name": "Python 3",
   "language": "python",
   "name": "python3"
  },
  "language_info": {
   "codemirror_mode": {
    "name": "ipython",
    "version": 3
   },
   "file_extension": ".py",
   "mimetype": "text/x-python",
   "name": "python",
   "nbconvert_exporter": "python",
   "pygments_lexer": "ipython3",
   "version": "3.10.11"
  }
 },
 "nbformat": 4,
 "nbformat_minor": 2
}
